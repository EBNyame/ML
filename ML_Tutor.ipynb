{
  "nbformat": 4,
  "nbformat_minor": 0,
  "metadata": {
    "colab": {
      "provenance": [],
      "authorship_tag": "ABX9TyMBJyPI87YtvLH1f3apx/8o",
      "include_colab_link": true
    },
    "kernelspec": {
      "name": "python3",
      "display_name": "Python 3"
    },
    "language_info": {
      "name": "python"
    }
  },
  "cells": [
    {
      "cell_type": "markdown",
      "metadata": {
        "id": "view-in-github",
        "colab_type": "text"
      },
      "source": [
        "<a href=\"https://colab.research.google.com/github/EBNyame/ML/blob/main/ML_Tutor.ipynb\" target=\"_parent\"><img src=\"https://colab.research.google.com/assets/colab-badge.svg\" alt=\"Open In Colab\"/></a>"
      ]
    },
    {
      "cell_type": "code",
      "execution_count": 2,
      "metadata": {
        "id": "pIB4X9AsQLcR"
      },
      "outputs": [],
      "source": [
        "import pandas as pd\n"
      ]
    },
    {
      "cell_type": "code",
      "source": [
        "data = {\n",
        "    \"Name\": [\"Eve\", \"Frank\", \"Grace\", \"Hank\"],\n",
        "    \"Age\": [22, 28, 35, 40],\n",
        "    \"Score\": [88, 92, 79, 85]\n",
        "}\n",
        "df = pd.DataFrame(data)\n",
        "print(df)"
      ],
      "metadata": {
        "colab": {
          "base_uri": "https://localhost:8080/"
        },
        "id": "tEQo-vNPS5tR",
        "outputId": "5599e2cc-6f2e-42fa-a4a7-6aa54d0e8632"
      },
      "execution_count": 3,
      "outputs": [
        {
          "output_type": "stream",
          "name": "stdout",
          "text": [
            "    Name  Age  Score\n",
            "0    Eve   22     88\n",
            "1  Frank   28     92\n",
            "2  Grace   35     79\n",
            "3   Hank   40     85\n"
          ]
        }
      ]
    },
    {
      "cell_type": "code",
      "source": [
        "print(df.head())"
      ],
      "metadata": {
        "colab": {
          "base_uri": "https://localhost:8080/"
        },
        "id": "8yGiPl1yzeB5",
        "outputId": "ca673c45-d2ce-4a7b-a3a6-752ce07b48f2"
      },
      "execution_count": 4,
      "outputs": [
        {
          "output_type": "stream",
          "name": "stdout",
          "text": [
            "    Name  Age  Score\n",
            "0    Eve   22     88\n",
            "1  Frank   28     92\n",
            "2  Grace   35     79\n",
            "3   Hank   40     85\n"
          ]
        }
      ]
    },
    {
      "cell_type": "markdown",
      "source": [
        "# **Mini Challenge**\n",
        "\n",
        "**Use the sample DataFrame:**\n",
        "\n",
        "\n",
        "\n",
        "```\n",
        "data = {\n",
        "    \"Name\": [\"Eve\", \"Frank\", \"Grace\", \"Hank\"],\n",
        "    \"Age\": [22, 28, 35, 40],\n",
        "    \"Score\": [88, 92, 79, 85]\n",
        "}\n",
        "df = pd.DataFrame(data)\n",
        "```\n",
        "\n",
        "\n",
        "\n",
        "\n",
        "* Print only the \"Age\" column.\n",
        "\n",
        "* Print the first 2 rows.\n",
        "\n",
        "* Print the average of the \"Score\" column."
      ],
      "metadata": {
        "id": "aMnKLtYqTMi9"
      }
    },
    {
      "cell_type": "markdown",
      "source": [
        "# **Solution**"
      ],
      "metadata": {
        "id": "hW7pbNkFcEru"
      }
    },
    {
      "cell_type": "code",
      "source": [
        "print(df[\"Age\"])"
      ],
      "metadata": {
        "colab": {
          "base_uri": "https://localhost:8080/"
        },
        "id": "ZREe22S3VCIq",
        "outputId": "aa2c1fd2-5ea1-4463-b193-5000070dd9e9"
      },
      "execution_count": 5,
      "outputs": [
        {
          "output_type": "stream",
          "name": "stdout",
          "text": [
            "0    22\n",
            "1    28\n",
            "2    35\n",
            "3    40\n",
            "Name: Age, dtype: int64\n"
          ]
        }
      ]
    },
    {
      "cell_type": "code",
      "source": [
        "print(df[\"Age\"].iloc[0:2])\n"
      ],
      "metadata": {
        "colab": {
          "base_uri": "https://localhost:8080/"
        },
        "id": "Q-MBGo39ZU6q",
        "outputId": "5ea497ea-62ee-4d86-8487-73b0ba5fa306"
      },
      "execution_count": 8,
      "outputs": [
        {
          "output_type": "stream",
          "name": "stdout",
          "text": [
            "0    22\n",
            "1    28\n",
            "Name: Age, dtype: int64\n"
          ]
        }
      ]
    },
    {
      "cell_type": "code",
      "source": [
        "print(df[\"Score\"].mean())"
      ],
      "metadata": {
        "colab": {
          "base_uri": "https://localhost:8080/"
        },
        "id": "F9t_C32YX-Vl",
        "outputId": "6efcd9ed-fe6e-4a3b-efbe-30d118515733"
      },
      "execution_count": 7,
      "outputs": [
        {
          "output_type": "stream",
          "name": "stdout",
          "text": [
            "86.0\n"
          ]
        }
      ]
    }
  ]
}